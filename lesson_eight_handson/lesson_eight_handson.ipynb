{
 "cells": [
  {
   "cell_type": "markdown",
   "id": "c0230dd8",
   "metadata": {},
   "source": [
    "# Always start by importing pandas"
   ]
  },
  {
   "cell_type": "code",
   "execution_count": 1,
   "id": "f6e3a46b",
   "metadata": {},
   "outputs": [],
   "source": [
    "import pandas as pd"
   ]
  },
  {
   "cell_type": "markdown",
   "id": "ec02cf76",
   "metadata": {},
   "source": [
    "# Reading the data as a CSV file"
   ]
  },
  {
   "cell_type": "code",
   "execution_count": 9,
   "id": "a18c24b2",
   "metadata": {},
   "outputs": [],
   "source": [
    "bison = pd.read_csv('/Users/britfathi/Downloads/BisonTracking.csv')"
   ]
  },
  {
   "cell_type": "markdown",
   "id": "d425e4cc",
   "metadata": {},
   "source": [
    "# The first seven rows of data"
   ]
  },
  {
   "cell_type": "code",
   "execution_count": 10,
   "id": "474fd742",
   "metadata": {},
   "outputs": [
    {
     "data": {
      "text/html": [
       "<div>\n",
       "<style scoped>\n",
       "    .dataframe tbody tr th:only-of-type {\n",
       "        vertical-align: middle;\n",
       "    }\n",
       "\n",
       "    .dataframe tbody tr th {\n",
       "        vertical-align: top;\n",
       "    }\n",
       "\n",
       "    .dataframe thead th {\n",
       "        text-align: right;\n",
       "    }\n",
       "</style>\n",
       "<table border=\"1\" class=\"dataframe\">\n",
       "  <thead>\n",
       "    <tr style=\"text-align: right;\">\n",
       "      <th></th>\n",
       "      <th>Collection/Population Locality</th>\n",
       "      <th>SpecimenNumber</th>\n",
       "      <th>Genus</th>\n",
       "      <th>Species</th>\n",
       "      <th>Length</th>\n",
       "    </tr>\n",
       "  </thead>\n",
       "  <tbody>\n",
       "    <tr>\n",
       "      <th>0</th>\n",
       "      <td>12 Mile Creek</td>\n",
       "      <td>112916</td>\n",
       "      <td>Bison</td>\n",
       "      <td>antiquus</td>\n",
       "      <td>8</td>\n",
       "    </tr>\n",
       "    <tr>\n",
       "      <th>1</th>\n",
       "      <td>12 Mile Creek</td>\n",
       "      <td>112917</td>\n",
       "      <td>Bison</td>\n",
       "      <td>antiquus</td>\n",
       "      <td>7</td>\n",
       "    </tr>\n",
       "    <tr>\n",
       "      <th>2</th>\n",
       "      <td>12 Mile Creek</td>\n",
       "      <td>112918</td>\n",
       "      <td>Bison</td>\n",
       "      <td>antiquus</td>\n",
       "      <td>7</td>\n",
       "    </tr>\n",
       "    <tr>\n",
       "      <th>3</th>\n",
       "      <td>12 Mile Creek</td>\n",
       "      <td>112919</td>\n",
       "      <td>Bison</td>\n",
       "      <td>antiquus</td>\n",
       "      <td>8</td>\n",
       "    </tr>\n",
       "    <tr>\n",
       "      <th>4</th>\n",
       "      <td>12 Mile Creek</td>\n",
       "      <td>112921</td>\n",
       "      <td>Bison</td>\n",
       "      <td>antiquus</td>\n",
       "      <td>9</td>\n",
       "    </tr>\n",
       "    <tr>\n",
       "      <th>5</th>\n",
       "      <td>12 Mile Creek</td>\n",
       "      <td>112925</td>\n",
       "      <td>Bison</td>\n",
       "      <td>antiquus</td>\n",
       "      <td>9</td>\n",
       "    </tr>\n",
       "    <tr>\n",
       "      <th>6</th>\n",
       "      <td>Agate Basin-Agate Basin</td>\n",
       "      <td>458</td>\n",
       "      <td>Bison</td>\n",
       "      <td>antiquus</td>\n",
       "      <td>7</td>\n",
       "    </tr>\n",
       "  </tbody>\n",
       "</table>\n",
       "</div>"
      ],
      "text/plain": [
       "  Collection/Population Locality SpecimenNumber  Genus   Species  Length\n",
       "0                  12 Mile Creek         112916  Bison  antiquus       8\n",
       "1                  12 Mile Creek         112917  Bison  antiquus       7\n",
       "2                  12 Mile Creek         112918  Bison  antiquus       7\n",
       "3                  12 Mile Creek         112919  Bison  antiquus       8\n",
       "4                  12 Mile Creek         112921  Bison  antiquus       9\n",
       "5                  12 Mile Creek         112925  Bison  antiquus       9\n",
       "6        Agate Basin-Agate Basin            458  Bison  antiquus       7"
      ]
     },
     "execution_count": 10,
     "metadata": {},
     "output_type": "execute_result"
    }
   ],
   "source": [
    "bison.head(7)"
   ]
  },
  {
   "cell_type": "markdown",
   "id": "900bb23b",
   "metadata": {},
   "source": [
    "# The last 10 rows of data"
   ]
  },
  {
   "cell_type": "code",
   "execution_count": 11,
   "id": "2a28dfd1",
   "metadata": {},
   "outputs": [
    {
     "data": {
      "text/html": [
       "<div>\n",
       "<style scoped>\n",
       "    .dataframe tbody tr th:only-of-type {\n",
       "        vertical-align: middle;\n",
       "    }\n",
       "\n",
       "    .dataframe tbody tr th {\n",
       "        vertical-align: top;\n",
       "    }\n",
       "\n",
       "    .dataframe thead th {\n",
       "        text-align: right;\n",
       "    }\n",
       "</style>\n",
       "<table border=\"1\" class=\"dataframe\">\n",
       "  <thead>\n",
       "    <tr style=\"text-align: right;\">\n",
       "      <th></th>\n",
       "      <th>Collection/Population Locality</th>\n",
       "      <th>SpecimenNumber</th>\n",
       "      <th>Genus</th>\n",
       "      <th>Species</th>\n",
       "      <th>Length</th>\n",
       "    </tr>\n",
       "  </thead>\n",
       "  <tbody>\n",
       "    <tr>\n",
       "      <th>1097</th>\n",
       "      <td>Simonsen</td>\n",
       "      <td>SEC. 8, 30\", E2, #bb</td>\n",
       "      <td>Bison</td>\n",
       "      <td>antiquus</td>\n",
       "      <td>8</td>\n",
       "    </tr>\n",
       "    <tr>\n",
       "      <th>1098</th>\n",
       "      <td>Simonsen</td>\n",
       "      <td>SW15 #3</td>\n",
       "      <td>Bison</td>\n",
       "      <td>antiquus</td>\n",
       "      <td>8</td>\n",
       "    </tr>\n",
       "    <tr>\n",
       "      <th>1099</th>\n",
       "      <td>Simonsen</td>\n",
       "      <td>SW15 #3</td>\n",
       "      <td>Bison</td>\n",
       "      <td>antiquus</td>\n",
       "      <td>7</td>\n",
       "    </tr>\n",
       "    <tr>\n",
       "      <th>1100</th>\n",
       "      <td>Simonsen</td>\n",
       "      <td>SW37 #9</td>\n",
       "      <td>Bison</td>\n",
       "      <td>antiquus</td>\n",
       "      <td>9</td>\n",
       "    </tr>\n",
       "    <tr>\n",
       "      <th>1101</th>\n",
       "      <td>Simonsen</td>\n",
       "      <td>SW37 #9</td>\n",
       "      <td>Bison</td>\n",
       "      <td>antiquus</td>\n",
       "      <td>8</td>\n",
       "    </tr>\n",
       "    <tr>\n",
       "      <th>1102</th>\n",
       "      <td>Terapa</td>\n",
       "      <td>TERA 403</td>\n",
       "      <td>Bison</td>\n",
       "      <td>antiquus</td>\n",
       "      <td>7</td>\n",
       "    </tr>\n",
       "    <tr>\n",
       "      <th>1103</th>\n",
       "      <td>Terapa</td>\n",
       "      <td>TERA 404</td>\n",
       "      <td>Bison</td>\n",
       "      <td>antiquus</td>\n",
       "      <td>8</td>\n",
       "    </tr>\n",
       "    <tr>\n",
       "      <th>1104</th>\n",
       "      <td>Terapa</td>\n",
       "      <td>TERA 426</td>\n",
       "      <td>Bison</td>\n",
       "      <td>antiquus</td>\n",
       "      <td>9</td>\n",
       "    </tr>\n",
       "    <tr>\n",
       "      <th>1105</th>\n",
       "      <td>WICA</td>\n",
       "      <td>422F7A5179</td>\n",
       "      <td>Bison</td>\n",
       "      <td>bison</td>\n",
       "      <td>7</td>\n",
       "    </tr>\n",
       "    <tr>\n",
       "      <th>1106</th>\n",
       "      <td>WICA</td>\n",
       "      <td>AVID*074*597*636</td>\n",
       "      <td>Bison</td>\n",
       "      <td>bison</td>\n",
       "      <td>7</td>\n",
       "    </tr>\n",
       "  </tbody>\n",
       "</table>\n",
       "</div>"
      ],
      "text/plain": [
       "     Collection/Population Locality        SpecimenNumber  Genus   Species  \\\n",
       "1097                       Simonsen  SEC. 8, 30\", E2, #bb  Bison  antiquus   \n",
       "1098                       Simonsen               SW15 #3  Bison  antiquus   \n",
       "1099                       Simonsen               SW15 #3  Bison  antiquus   \n",
       "1100                       Simonsen               SW37 #9  Bison  antiquus   \n",
       "1101                       Simonsen               SW37 #9  Bison  antiquus   \n",
       "1102                         Terapa              TERA 403  Bison  antiquus   \n",
       "1103                         Terapa              TERA 404  Bison  antiquus   \n",
       "1104                         Terapa              TERA 426  Bison  antiquus   \n",
       "1105                           WICA            422F7A5179  Bison     bison   \n",
       "1106                           WICA      AVID*074*597*636  Bison     bison   \n",
       "\n",
       "      Length  \n",
       "1097       8  \n",
       "1098       8  \n",
       "1099       7  \n",
       "1100       9  \n",
       "1101       8  \n",
       "1102       7  \n",
       "1103       8  \n",
       "1104       9  \n",
       "1105       7  \n",
       "1106       7  "
      ]
     },
     "execution_count": 11,
     "metadata": {},
     "output_type": "execute_result"
    }
   ],
   "source": [
    "bison.tail(10)"
   ]
  },
  {
   "cell_type": "markdown",
   "id": "455e2ad1",
   "metadata": {},
   "source": [
    "# The number of columns"
   ]
  },
  {
   "cell_type": "code",
   "execution_count": 12,
   "id": "891e30ec",
   "metadata": {},
   "outputs": [
    {
     "data": {
      "text/plain": [
       "5"
      ]
     },
     "execution_count": 12,
     "metadata": {},
     "output_type": "execute_result"
    }
   ],
   "source": [
    "len(bison.columns)"
   ]
  },
  {
   "cell_type": "markdown",
   "id": "de1dabe5",
   "metadata": {},
   "source": [
    "# The number of rows"
   ]
  },
  {
   "cell_type": "code",
   "execution_count": 14,
   "id": "131c7a6b",
   "metadata": {},
   "outputs": [
    {
     "data": {
      "text/plain": [
       "1107"
      ]
     },
     "execution_count": 14,
     "metadata": {},
     "output_type": "execute_result"
    }
   ],
   "source": [
    "len(bison)"
   ]
  },
  {
   "cell_type": "markdown",
   "id": "660a7696",
   "metadata": {},
   "source": [
    "# There are 633 bison of the species antiquus"
   ]
  },
  {
   "cell_type": "code",
   "execution_count": 20,
   "id": "2b961515",
   "metadata": {
    "scrolled": true
   },
   "outputs": [
    {
     "data": {
      "text/plain": [
       "antiquus        633\n",
       "bison           435\n",
       "occidentalis     39\n",
       "Name: Species, dtype: int64"
      ]
     },
     "execution_count": 20,
     "metadata": {},
     "output_type": "execute_result"
    }
   ],
   "source": [
    "bison.Species.value_counts()"
   ]
  },
  {
   "cell_type": "markdown",
   "id": "6331d76b",
   "metadata": {},
   "source": [
    "# For Length, the mean is 7.981, the standard deviation is 0.808, and the median is 8."
   ]
  },
  {
   "cell_type": "code",
   "execution_count": 16,
   "id": "1c14a106",
   "metadata": {
    "scrolled": false
   },
   "outputs": [
    {
     "data": {
      "text/plain": [
       "count    1107.000000\n",
       "mean        7.981030\n",
       "std         0.808299\n",
       "min         7.000000\n",
       "25%         7.000000\n",
       "50%         8.000000\n",
       "75%         9.000000\n",
       "max         9.000000\n",
       "Name: Length, dtype: float64"
      ]
     },
     "execution_count": 16,
     "metadata": {},
     "output_type": "execute_result"
    }
   ],
   "source": [
    "bison.Length.describe()"
   ]
  },
  {
   "cell_type": "markdown",
   "id": "4b4bad82",
   "metadata": {},
   "source": [
    "## Double checking descriptive statistics about Length:"
   ]
  },
  {
   "cell_type": "code",
   "execution_count": 22,
   "id": "53dfffae",
   "metadata": {},
   "outputs": [
    {
     "data": {
      "text/plain": [
       "7.981029810298103"
      ]
     },
     "execution_count": 22,
     "metadata": {},
     "output_type": "execute_result"
    }
   ],
   "source": [
    "bison.Length.mean()"
   ]
  },
  {
   "cell_type": "code",
   "execution_count": 23,
   "id": "72b29a29",
   "metadata": {
    "scrolled": false
   },
   "outputs": [
    {
     "data": {
      "text/plain": [
       "0.8082987436374482"
      ]
     },
     "execution_count": 23,
     "metadata": {},
     "output_type": "execute_result"
    }
   ],
   "source": [
    "bison.Length.std()"
   ]
  },
  {
   "cell_type": "code",
   "execution_count": 21,
   "id": "6908ff7b",
   "metadata": {},
   "outputs": [
    {
     "data": {
      "text/plain": [
       "8.0"
      ]
     },
     "execution_count": 21,
     "metadata": {},
     "output_type": "execute_result"
    }
   ],
   "source": [
    "bison.Length.median()"
   ]
  },
  {
   "cell_type": "code",
   "execution_count": null,
   "id": "4342fd7c",
   "metadata": {},
   "outputs": [],
   "source": []
  }
 ],
 "metadata": {
  "kernelspec": {
   "display_name": "Python 3 (ipykernel)",
   "language": "python",
   "name": "python3"
  },
  "language_info": {
   "codemirror_mode": {
    "name": "ipython",
    "version": 3
   },
   "file_extension": ".py",
   "mimetype": "text/x-python",
   "name": "python",
   "nbconvert_exporter": "python",
   "pygments_lexer": "ipython3",
   "version": "3.10.9"
  }
 },
 "nbformat": 4,
 "nbformat_minor": 5
}
