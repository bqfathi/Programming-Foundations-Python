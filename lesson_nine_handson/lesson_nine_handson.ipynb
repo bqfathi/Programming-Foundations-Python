{
 "cells": [
  {
   "cell_type": "markdown",
   "id": "b3e08071",
   "metadata": {},
   "source": [
    "# Calling the Numpy directory "
   ]
  },
  {
   "cell_type": "code",
   "execution_count": 2,
   "id": "0d13aa12",
   "metadata": {},
   "outputs": [],
   "source": [
    "import numpy as np"
   ]
  },
  {
   "cell_type": "markdown",
   "id": "ad3660c6",
   "metadata": {},
   "source": [
    "# Creating a 5 element array"
   ]
  },
  {
   "cell_type": "code",
   "execution_count": 3,
   "id": "17de3731",
   "metadata": {},
   "outputs": [],
   "source": [
    "myFavorites = np.array([8, 6, 7, 5, 3])"
   ]
  },
  {
   "cell_type": "markdown",
   "id": "3b901608",
   "metadata": {},
   "source": [
    "# Performing the 5 Aggregate Functions on myFavorites"
   ]
  },
  {
   "cell_type": "code",
   "execution_count": 4,
   "id": "0eca9b17",
   "metadata": {},
   "outputs": [
    {
     "data": {
      "text/plain": [
       "8"
      ]
     },
     "execution_count": 4,
     "metadata": {},
     "output_type": "execute_result"
    }
   ],
   "source": [
    "myFavorites.max()"
   ]
  },
  {
   "cell_type": "code",
   "execution_count": 5,
   "id": "d6203171",
   "metadata": {},
   "outputs": [
    {
     "data": {
      "text/plain": [
       "3"
      ]
     },
     "execution_count": 5,
     "metadata": {},
     "output_type": "execute_result"
    }
   ],
   "source": [
    "myFavorites.min()"
   ]
  },
  {
   "cell_type": "code",
   "execution_count": 7,
   "id": "25594282",
   "metadata": {},
   "outputs": [
    {
     "data": {
      "text/plain": [
       "5.8"
      ]
     },
     "execution_count": 7,
     "metadata": {},
     "output_type": "execute_result"
    }
   ],
   "source": [
    "myFavorites.mean()"
   ]
  },
  {
   "cell_type": "code",
   "execution_count": 8,
   "id": "a1aaef5f",
   "metadata": {},
   "outputs": [
    {
     "data": {
      "text/plain": [
       "1.7204650534085253"
      ]
     },
     "execution_count": 8,
     "metadata": {},
     "output_type": "execute_result"
    }
   ],
   "source": [
    "myFavorites.std()"
   ]
  },
  {
   "cell_type": "code",
   "execution_count": 9,
   "id": "017bff23",
   "metadata": {},
   "outputs": [
    {
     "data": {
      "text/plain": [
       "29"
      ]
     },
     "execution_count": 9,
     "metadata": {},
     "output_type": "execute_result"
    }
   ],
   "source": [
    "myFavorites.sum()"
   ]
  },
  {
   "cell_type": "markdown",
   "id": "6d080733",
   "metadata": {},
   "source": [
    "# Creating a 5 Element Array of Only Ones"
   ]
  },
  {
   "cell_type": "code",
   "execution_count": 10,
   "id": "bb8bf85d",
   "metadata": {},
   "outputs": [],
   "source": [
    "OneArrayToRuleThemAll = np.ones(5)"
   ]
  },
  {
   "cell_type": "markdown",
   "id": "dc8e7efd",
   "metadata": {},
   "source": [
    "# Adding myFavorites to OneArrayToRuleThemAll"
   ]
  },
  {
   "cell_type": "code",
   "execution_count": 11,
   "id": "dff83d5b",
   "metadata": {},
   "outputs": [
    {
     "data": {
      "text/plain": [
       "array([9., 7., 8., 6., 4.])"
      ]
     },
     "execution_count": 11,
     "metadata": {},
     "output_type": "execute_result"
    }
   ],
   "source": [
    "myFavorites + OneArrayToRuleThemAll"
   ]
  },
  {
   "cell_type": "markdown",
   "id": "09a2e8f7",
   "metadata": {},
   "source": [
    "# Multiplying every element in myFavorites by two"
   ]
  },
  {
   "cell_type": "code",
   "execution_count": 12,
   "id": "9bd11b5c",
   "metadata": {},
   "outputs": [
    {
     "data": {
      "text/plain": [
       "array([16, 12, 14, 10,  6])"
      ]
     },
     "execution_count": 12,
     "metadata": {},
     "output_type": "execute_result"
    }
   ],
   "source": [
    "myFavorites * 2"
   ]
  },
  {
   "cell_type": "markdown",
   "id": "7c84f541",
   "metadata": {},
   "source": [
    "# Calling the Third Element of myFavorites Using Indexing"
   ]
  },
  {
   "cell_type": "code",
   "execution_count": 13,
   "id": "d35a5077",
   "metadata": {},
   "outputs": [
    {
     "data": {
      "text/plain": [
       "7"
      ]
     },
     "execution_count": 13,
     "metadata": {},
     "output_type": "execute_result"
    }
   ],
   "source": [
    "myFavorites[2]"
   ]
  },
  {
   "cell_type": "markdown",
   "id": "9488d71c",
   "metadata": {},
   "source": [
    "# Create a four element, two-by-two matrix of numbers named TheMatrixHasYou"
   ]
  },
  {
   "cell_type": "code",
   "execution_count": 16,
   "id": "4473176b",
   "metadata": {},
   "outputs": [],
   "source": [
    "TheMatrixHasYou = np.array([[0,9],[2,3]])"
   ]
  },
  {
   "cell_type": "markdown",
   "id": "9d8c5b98",
   "metadata": {},
   "source": [
    "# Access the upper left element in TheMatrixHasYou using indexing."
   ]
  },
  {
   "cell_type": "code",
   "execution_count": 17,
   "id": "08f60272",
   "metadata": {},
   "outputs": [
    {
     "data": {
      "text/plain": [
       "0"
      ]
     },
     "execution_count": 17,
     "metadata": {},
     "output_type": "execute_result"
    }
   ],
   "source": [
    "TheMatrixHasYou[0,0]"
   ]
  },
  {
   "cell_type": "markdown",
   "id": "1f3dfff2",
   "metadata": {},
   "source": [
    "# Find the largest number in each row for TheMatrixHasYou"
   ]
  },
  {
   "cell_type": "code",
   "execution_count": 18,
   "id": "569d1439",
   "metadata": {},
   "outputs": [
    {
     "data": {
      "text/plain": [
       "array([9, 3])"
      ]
     },
     "execution_count": 18,
     "metadata": {},
     "output_type": "execute_result"
    }
   ],
   "source": [
    "TheMatrixHasYou.max(axis = 1)"
   ]
  },
  {
   "cell_type": "markdown",
   "id": "d20595aa",
   "metadata": {},
   "source": [
    "# Reshape TheMatrixHasYou into a matrix with one row and four columns."
   ]
  },
  {
   "cell_type": "code",
   "execution_count": 19,
   "id": "ded33bc9",
   "metadata": {},
   "outputs": [
    {
     "data": {
      "text/plain": [
       "array([[0, 9, 2, 3]])"
      ]
     },
     "execution_count": 19,
     "metadata": {},
     "output_type": "execute_result"
    }
   ],
   "source": [
    "TheMatrixHasYou.reshape(1,4)"
   ]
  },
  {
   "cell_type": "code",
   "execution_count": null,
   "id": "c433d079",
   "metadata": {},
   "outputs": [],
   "source": []
  }
 ],
 "metadata": {
  "kernelspec": {
   "display_name": "Python 3 (ipykernel)",
   "language": "python",
   "name": "python3"
  },
  "language_info": {
   "codemirror_mode": {
    "name": "ipython",
    "version": 3
   },
   "file_extension": ".py",
   "mimetype": "text/x-python",
   "name": "python",
   "nbconvert_exporter": "python",
   "pygments_lexer": "ipython3",
   "version": "3.10.9"
  }
 },
 "nbformat": 4,
 "nbformat_minor": 5
}
